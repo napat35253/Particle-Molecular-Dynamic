{
 "cells": [
  {
   "cell_type": "code",
   "execution_count": 1,
   "metadata": {
    "id": "N_PJ46NO-bU_"
   },
   "outputs": [],
   "source": [
    "import numpy as np\n",
    "from matplotlib import pyplot as plt\n",
    "import random\n",
    "#%matplotlib qt"
   ]
  },
  {
   "cell_type": "code",
   "execution_count": 3,
   "metadata": {
    "id": "HfvV8peS-bVB"
   },
   "outputs": [],
   "source": [
    "N = 100\n",
    "epsilon = 1\n",
    "sigma = 1\n",
    "m = 1\n",
    "v_0 = np.sqrt(2*epsilon/m)\n",
    "t_0 = sigma * np.sqrt(m/(2*epsilon))\n",
    "timestep = 3000\n",
    "delta_t = 0.00005*t_0\n",
    "\n",
    "## large particle \n",
    "M = m * 40\n",
    "rho = 10\n",
    "\n",
    "l_space = np.array([sigma*100,sigma*100])\n",
    "r_particle = np.zeros([N,2],dtype=np.float64)\n",
    "v_particle = np.ones([N,2])\n",
    "\n",
    "large_r_particle = np.array([random.uniform(0+rho,l_space[0]-rho),random.uniform(0+rho,l_space[1]-rho)])\n",
    "large_v_particle = np.array([0,0])\n",
    "large_particle_path = np.zeros([timestep,2])\n",
    "\n",
    "energy = np.zeros(timestep)\n",
    "kinetic_energy = np.zeros(timestep)\n",
    "potential_energy = np.zeros(timestep)"
   ]
  },
  {
   "cell_type": "code",
   "execution_count": 4,
   "metadata": {
    "colab": {
     "base_uri": "https://localhost:8080/"
    },
    "id": "Gbe7bN5G-bVB",
    "outputId": "e74de962-a4e0-4385-eba9-4fa09c68ae32"
   },
   "outputs": [],
   "source": [
    "def initialize_position(r_particle,l_space,sigma,large_r_particle,rho):\n",
    "\n",
    "    ## initiate position \n",
    "    for idx_i,i in enumerate(r_particle):\n",
    "\n",
    "        all_position_ok = False ## not closer than sigma\n",
    "\n",
    "        while all_position_ok == False:\n",
    "\n",
    "            ## random initialize\n",
    "            position_x = random.uniform(0,l_space[0])\n",
    "            position_y = random.uniform(0,l_space[1])\n",
    "            position_new = np.array([position_x,position_y])\n",
    "            \n",
    "            ## calculate distance between each particle\n",
    "            position_ok = True\n",
    "            for idx_j,j in enumerate(r_particle):\n",
    "                if idx_i != idx_j :\n",
    "                    dist = np.linalg.norm(position_new - j)\n",
    "                    if dist <= 2*sigma:\n",
    "                        position_ok = False\n",
    "                        break\n",
    "            \n",
    "            ## check with the large particle\n",
    "            dist = np.linalg.norm(position_new - large_r_particle)\n",
    "            if dist <= sigma + rho:\n",
    "                position_ok = False\n",
    "            \n",
    "            ## All check clear assign new position\n",
    "            if position_ok :          \n",
    "                r_particle[idx_i] = position_new\n",
    "                all_position_ok = True\n",
    "            \n",
    "    return r_particle\n",
    "            \n",
    "        "
   ]
  },
  {
   "cell_type": "code",
   "execution_count": 5,
   "metadata": {},
   "outputs": [],
   "source": [
    "def initialize_velocity(v_particle,v_0):\n",
    "    \n",
    "    for idx_i,i in enumerate(v_particle):\n",
    "        \n",
    "        velocity_x = random.uniform(-20*v_0,20*v_0)\n",
    "        ## first term for randomly generate -1 or 1 | second term for calculating euclidean distance\n",
    "        velocity_y = (random.randint(0,1)*2-1) * np.sqrt((20*v_0)**2 - (velocity_x**2))\n",
    "        velocity_new = np.array([velocity_x,velocity_y])\n",
    "\n",
    "        v_particle[idx_i] = velocity_new\n",
    "    \n",
    "    return v_particle\n"
   ]
  },
  {
   "cell_type": "code",
   "execution_count": 6,
   "metadata": {},
   "outputs": [],
   "source": [
    "def calculate_force(i,j,epsilon,sigma):\n",
    "    r_ij = np.linalg.norm(i - j)\n",
    "    r_ij_x = i[0] - j[0]\n",
    "    r_ij_y = i[1] - j[1]\n",
    "    f = epsilon * ( (48*(sigma**12)/(r_ij**13)) - 24*(sigma**6)/(r_ij**7))\n",
    "    return np.array([f*r_ij_x/r_ij,f*r_ij_y/r_ij])\n"
   ]
  },
  {
   "cell_type": "code",
   "execution_count": 7,
   "metadata": {},
   "outputs": [],
   "source": [
    "def calculate_force_large(i,j,epsilon,sigma,rho):\n",
    "    r_ij = np.linalg.norm(i - j) - rho\n",
    "    r_ij_x = abs(i[0] - j[0]) - rho\n",
    "    r_ij_y = abs(i[1] - j[1]) - rho\n",
    "    f = epsilon * ( (48*(sigma**12)/(r_ij**13)) - 24*(sigma**6)/(r_ij**7))\n",
    "    return np.array([f*r_ij_x/r_ij,f*r_ij/r_ij_y])\n"
   ]
  },
  {
   "cell_type": "code",
   "execution_count": 8,
   "metadata": {},
   "outputs": [],
   "source": [
    "def calculate_potential_energy(i,j,epsilon,sigma,rho):\n",
    "    r_ij = np.linalg.norm(i - j) - rho\n",
    "    term_1 = (sigma/r_ij)**12\n",
    "    term_2 = (sigma/r_ij)**6\n",
    "    e = 4 * epsilon * (term_1 - term_2)\n",
    "    return e"
   ]
  },
  {
   "cell_type": "code",
   "execution_count": 9,
   "metadata": {},
   "outputs": [],
   "source": [
    "def plot_large_particle_path(large_particle_path,large_r_particle,r_particle,timestep,l_space):\n",
    "    plt.clf()\n",
    "    plt.axis([0,l_space[0],0,l_space[1]])\n",
    "    plt.ylabel('$y$')\n",
    "    plt.xlabel('$x$')\n",
    "    plt.scatter(large_r_particle[0],large_r_particle[1],s=rho**2)\n",
    "    plt.scatter(r_particle[:,0],r_particle[:,1],s=1)\n",
    "    for t in range(timestep):\n",
    "        plt.scatter(large_particle_path[t,0],large_particle_path[t,1],s=1,color=\"red\")  "
   ]
  },
  {
   "cell_type": "code",
   "execution_count": null,
   "metadata": {},
   "outputs": [],
   "source": [
    "r_particle = initialize_position(r_particle,l_space,sigma,large_r_particle,rho)\n",
    "v_particle = initialize_velocity(v_particle,v_0)\n",
    "\n",
    "for t in range(timestep):\n",
    "    \n",
    "    total_potential_energy = 0\n",
    "    total_kinetic_energy = 0\n",
    "    large_particle_path[t] = large_r_particle\n",
    "\n",
    "    ################## SMALL PARTICLE ########################\n",
    "\n",
    "    ## force reaction to each other\n",
    "    for idx_i,i in enumerate(r_particle):\n",
    "\n",
    "        total_force = np.zeros(2)\n",
    "\n",
    "        for idx_j,j in enumerate(r_particle):\n",
    "            if idx_i!=idx_j:\n",
    "                f = calculate_force(i,j,epsilon,sigma)\n",
    "                total_force = total_force + f\n",
    "                total_potential_energy += 0.5*calculate_potential_energy(i,j,epsilon,sigma,0)\n",
    "\n",
    "        ## large particle force\n",
    "        large_force = calculate_force_large(i,large_r_particle,epsilon,sigma,rho)\n",
    "        total_force = total_force + large_force\n",
    "        total_potential_energy += calculate_potential_energy(i,j,epsilon,sigma,rho)\n",
    "                \n",
    "        ## leap frog algorithm\n",
    "        \n",
    "        r_half = r_particle[idx_i] + (v_particle[idx_i] * delta_t / 2)\n",
    "        v_next = v_particle[idx_i] + (total_force / m * delta_t)\n",
    "        r_next = r_half + (v_next * delta_t / 2)\n",
    "\n",
    "        ## check boundary\n",
    "        if r_next[0] > l_space[0] or r_next[0] < 0:\n",
    "            v_next[0] = -v_next[0]\n",
    "    \n",
    "        if r_next[1] > l_space[1] or r_next[1] < 0:\n",
    "            v_next[1] = -v_next[1]\n",
    "        r_next = r_half + (v_next * delta_t / 2)\n",
    "\n",
    "        r_particle[idx_i] = r_next\n",
    "        v_particle[idx_i] = v_next\n",
    "\n",
    "        velocity = np.sqrt(v_particle[idx_i][0]**2 + v_particle[idx_i][1]**2)\n",
    "        K = 0.5 * m * (velocity**2)\n",
    "        total_kinetic_energy += K\n",
    "\n",
    "    ################## SMALL PARTICLE ########################\n",
    "\n",
    "\n",
    "    ################## LARGE PARTICLE ########################\n",
    "\n",
    "    total_force = np.zeros(2)\n",
    "    for idx_j,j in enumerate(r_particle):\n",
    "        large_force = calculate_force_large(j,large_r_particle,epsilon,sigma,rho)\n",
    "        total_force = total_force + large_force\n",
    "    \n",
    "    ## leap frog algorithm\n",
    "        \n",
    "    r_half = large_r_particle + (large_v_particle * delta_t / 2)\n",
    "    v_next = large_v_particle + (total_force / M * delta_t)\n",
    "    r_next = r_half + (v_next * delta_t / 2)\n",
    "\n",
    "    ## check boundary\n",
    "    if r_next[0] > l_space[0]-rho or r_next[0]+rho < 0:\n",
    "        v_next[0] = -v_next[0]\n",
    "    \n",
    "    if r_next[1] > l_space[1]-rho or r_next[1]+rho < 0:\n",
    "        v_next[1] = -v_next[1]\n",
    "    r_next = r_half + (v_next * delta_t / 2)\n",
    "\n",
    "    large_r_particle = r_next\n",
    "    large_v_particle = v_next\n",
    "\n",
    "    velocity = np.sqrt(large_v_particle[0]**2 + large_v_particle[1]**2)\n",
    "    K = 0.5 * m * (velocity**2)\n",
    "    total_kinetic_energy += K\n",
    "\n",
    "    ################## LARGE PARTICLE ########################\n",
    "\n",
    "    total_energy = total_kinetic_energy + total_potential_energy\n",
    "\n",
    "    energy[t] = total_energy\n",
    "    potential_energy[t] = total_potential_energy\n",
    "    kinetic_energy[t] = total_kinetic_energy\n",
    "    # print(t)\n",
    "    plt.clf()\n",
    "    plt.title(t)\n",
    "    plt.axis([0,l_space[0],0,l_space[1]])\n",
    "    plt.scatter(large_r_particle[0],large_r_particle[1],s=rho**2)\n",
    "    plt.scatter(r_particle[:,0],r_particle[:,1],s=1)\n",
    "    plt.scatter(large_particle_path[:,0],large_particle_path[:,1],s=1)\n",
    "    plt.show(block=False)\n",
    "    plt.pause(0.0001)\n"
   ]
  },
  {
   "cell_type": "markdown",
   "metadata": {},
   "source": [
    "## 1.8 a)"
   ]
  },
  {
   "cell_type": "markdown",
   "metadata": {},
   "source": [
    "N = 36\n",
    "timestep = 1000"
   ]
  },
  {
   "cell_type": "code",
   "execution_count": 107,
   "metadata": {},
   "outputs": [
    {
     "data": {
      "image/png": "[encoded data removed]",
      "text/plain": [
       "<Figure size 640x480 with 1 Axes>"
      ]
     },
     "metadata": {},
     "output_type": "display_data"
    }
   ],
   "source": [
    "large_r_particle_a = large_r_particle\n",
    "r_particle_a = r_particle\n",
    "large_particle_path_a = large_particle_path\n",
    "\n",
    "plot_large_particle_path(large_particle_path_a,large_r_particle_a,r_particle_a,timestep,l_space)"
   ]
  },
  {
   "cell_type": "markdown",
   "metadata": {},
   "source": [
    "## 1.8 b)"
   ]
  },
  {
   "cell_type": "markdown",
   "metadata": {},
   "source": [
    "N = 100\n",
    "timestep = 3000"
   ]
  },
  {
   "cell_type": "code",
   "execution_count": 11,
   "metadata": {},
   "outputs": [
    {
     "data": {
      "image/png": "[encoded data removed]",
      "text/plain": [
       "<Figure size 640x480 with 1 Axes>"
      ]
     },
     "metadata": {},
     "output_type": "display_data"
    }
   ],
   "source": [
    "large_r_particle_b = large_r_particle\n",
    "r_particle_b = r_particle\n",
    "large_particle_path_b = large_particle_path\n",
    "\n",
    "plot_large_particle_path(large_particle_path_b,large_r_particle_b,r_particle_b,timestep,l_space)"
   ]
  },
  {
   "cell_type": "code",
   "execution_count": 12,
   "metadata": {},
   "outputs": [
    {
     "name": "stdout",
     "output_type": "stream",
     "text": [
      "MSD : 1.3167265708910084e-15\n"
     ]
    }
   ],
   "source": [
    "r_diff = 0\n",
    "for i in range(1,timestep-2):\n",
    "    x_diff = large_particle_path[i+1][0] - large_particle_path[i][0]\n",
    "    y_diff = large_particle_path[i+1][1] - large_particle_path[i][1]\n",
    "    r_diff += x_diff**2 + y_diff**2\n",
    "msd = (1/(timestep - 1)) * r_diff\n",
    "print(\"MSD : \"+ str(msd))"
   ]
  },
  {
   "cell_type": "code",
   "execution_count": null,
   "metadata": {},
   "outputs": [],
   "source": []
  }
 ],
 "metadata": {
  "colab": {
   "provenance": []
  },
  "kernelspec": {
   "display_name": "Python 3 (ipykernel)",
   "language": "python",
   "name": "python3"
  },
  "language_info": {
   "codemirror_mode": {
    "name": "ipython",
    "version": 3
   },
   "file_extension": ".py",
   "mimetype": "text/x-python",
   "name": "python",
   "nbconvert_exporter": "python",
   "pygments_lexer": "ipython3",
   "version": "3.10.8"
  },
  "vscode": {
   "interpreter": {
    "hash": "b0fa6594d8f4cbf19f97940f81e996739fb7646882a419484c72d19e05852a7e"
   }
  }
 },
 "nbformat": 4,
 "nbformat_minor": 1
}
